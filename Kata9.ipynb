{
 "cells": [
  {
   "cell_type": "markdown",
   "metadata": {},
   "source": [
    "Kata 9"
   ]
  },
  {
   "cell_type": "markdown",
   "metadata": {},
   "source": [
    "# Ejercicio: Uso de funciones en Python"
   ]
  },
  {
   "cell_type": "code",
   "execution_count": 8,
   "metadata": {},
   "outputs": [
    {
     "name": "stdout",
     "output_type": "stream",
     "text": [
      "\"\n",
      "    Reporte total:\n",
      "    Total tanques: 133.33333333333334%\n",
      "    combustible1: 50%\n",
      "    combustible2: 100%\n",
      "    combustible3: 250%\n",
      "    \n",
      "\"\n",
      "    Reporte total:\n",
      "    Total tanques: 136.66666666666666%\n",
      "    combustible1: 60%\n",
      "    combustible2: 100%\n",
      "    combustible3: 250%\n",
      "    \n"
     ]
    }
   ],
   "source": [
    "#Ejercicio 1: Trabajar con argumentos en funciones\n",
    "\n",
    "def tanques(combustible1, combustible2, combustible3):\n",
    "    total_tanques = (combustible1 + combustible2 + combustible3)/3\n",
    "    return f\"\"\"\"\n",
    "    Reporte total:\n",
    "    Total tanques: {total_tanques}%\n",
    "    combustible1: {combustible1}%\n",
    "    combustible2: {combustible2}%\n",
    "    combustible3: {combustible3}%\n",
    "    \"\"\"\n",
    "\n",
    "print(tanques(50,100,250))\n",
    "\n",
    "def total(valor):\n",
    "    total = sum(valor)\n",
    "    numero_combustible = len(valor)\n",
    "    return total / numero_combustible\n",
    "\n",
    "total([80,95,100])\n",
    "\n",
    "def tanques_reporte(combustible1, combustible2, combustible3):\n",
    "    return f\"\"\"\"\n",
    "    Reporte total:\n",
    "    Total tanques: {[combustible1, combustible2, combustible3]}%\n",
    "    combustible1: {combustible1}%\n",
    "    combustible2: {combustible2}%\n",
    "    combustible3: {combustible3}%\n",
    "    \"\"\"\n",
    "print(tanques(60,100,250))\n"
   ]
  },
  {
   "cell_type": "markdown",
   "metadata": {},
   "source": [
    "# Ejercicio 2: Trabajo con argumentos de palabra clave"
   ]
  },
  {
   "cell_type": "code",
   "execution_count": 1,
   "metadata": {},
   "outputs": [
    {
     "name": "stdout",
     "output_type": "stream",
     "text": [
      "\"\n",
      "    Reporte total:\n",
      "    destino: Marte\n",
      "    tiempo: 33 minutes\n",
      "    tanques: 40000 gallons\n",
      "    \n",
      "\"\n",
      "    destino: Marte\n",
      "    tiempo_total: 81 minutes \n",
      "    combustible_total: 600000 \n",
      "    \n",
      "\"\n",
      "    destino: Marte\n",
      "    tiempo_total: 68 minutes \n",
      "    combustible_total: 600000 \n",
      "    main tanque --> 400000 galon izqexternal tanque --> 200000 galon izq\n"
     ]
    }
   ],
   "source": [
    "# Ejercicio : Trabajar con argumentos de palabras clave en funciones\n",
    "\n",
    "def cohete(hora_prelanzamiento, tiempo_vuelo, destino, tanque_externo, tanque_interno):\n",
    "    return f\"\"\"\"\n",
    "    Reporte total:\n",
    "    destino: {destino}\n",
    "    tiempo: {hora_prelanzamiento + tiempo_vuelo} minutes\n",
    "    tanques: {tanque_externo + tanque_interno} gallons\n",
    "    \"\"\"\n",
    "print(cohete(13,20,\"Marte\",10000,30000))\n",
    "\n",
    "\n",
    "def cohete_reporte(destino,*minutes, **combustible):\n",
    "    return f\"\"\"\"\n",
    "    destino: {destino}\n",
    "    tiempo_total: {sum(minutes)} minutes \n",
    "    combustible_total: {sum(combustible.values())} \n",
    "    \"\"\"\n",
    "print(cohete_reporte(\"Marte\", 10,30,41, main=400000, external=200000))\n",
    "\n",
    "def cohete_reporte(destino,*minutes, **combustible):\n",
    "    reporte_cohete = f\"\"\"\"\n",
    "    destino: {destino}\n",
    "    tiempo_total: {sum(minutes)} minutes \n",
    "    combustible_total: {sum(combustible.values())} \n",
    "    \"\"\"\n",
    "    for nombre_tanque, galon in combustible.items():\n",
    "        reporte_cohete += f\"{nombre_tanque} tanque --> {galon} galon izq\" \n",
    "    return reporte_cohete\n",
    "\n",
    "print(cohete_reporte(\"Marte\", 9,12,47, main=400000, external=200000))\n"
   ]
  }
 ],
 "metadata": {
  "interpreter": {
   "hash": "80e0dfac386aaae1c43053cf034cd30fef02b4a21180bb4229f458eac81e8f48"
  },
  "kernelspec": {
   "display_name": "Python 3.10.2 64-bit",
   "language": "python",
   "name": "python3"
  },
  "language_info": {
   "codemirror_mode": {
    "name": "ipython",
    "version": 3
   },
   "file_extension": ".py",
   "mimetype": "text/x-python",
   "name": "python",
   "nbconvert_exporter": "python",
   "pygments_lexer": "ipython3",
   "version": "3.10.2"
  },
  "orig_nbformat": 4
 },
 "nbformat": 4,
 "nbformat_minor": 2
}

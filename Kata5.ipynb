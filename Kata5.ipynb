{
 "cells": [
  {
   "cell_type": "markdown",
   "metadata": {},
   "source": [
    "Kata 5"
   ]
  },
  {
   "cell_type": "markdown",
   "metadata": {},
   "source": [
    "# Ejercicio1 - Utilizar operadores aritméticos"
   ]
  },
  {
   "cell_type": "code",
   "execution_count": 5,
   "metadata": {},
   "outputs": [
    {
     "name": "stdout",
     "output_type": "stream",
     "text": [
      "628949330\n",
      "390577534\n"
     ]
    }
   ],
   "source": [
    "tierra = 149597870\n",
    "jupiter = 778547200\n",
    "\n",
    "resta = jupiter - tierra\n",
    "print(resta)\n",
    "\n",
    "millas = resta * 0.621\n",
    "print (round(millas))"
   ]
  },
  {
   "cell_type": "markdown",
   "metadata": {},
   "source": [
    "# Ejercicio 2: convierte cadenas en números y usa valores absolutos"
   ]
  },
  {
   "cell_type": "code",
   "execution_count": 10,
   "metadata": {},
   "outputs": [
    {
     "name": "stdout",
     "output_type": "stream",
     "text": [
      "Kilometros 50300000\n",
      "Millas: 31236300.0\n"
     ]
    }
   ],
   "source": [
    "planeta1 = input(\"Ingresa distancia  planeta 1\")\n",
    "planeta2 = input(\"Ingresa distancia  planeta 2\")\n",
    "\n",
    "planeta1_int  = int(planeta1)\n",
    "planeta2_int  = int(planeta2)\n",
    "\n",
    "km= planeta2_int - planeta1_int \n",
    "print ('Kilometros:',km)\n",
    "\n",
    "millas = km * 0.621\n",
    "\n",
    "print('Millas:', abs(millas))"
   ]
  }
 ],
 "metadata": {
  "interpreter": {
   "hash": "80e0dfac386aaae1c43053cf034cd30fef02b4a21180bb4229f458eac81e8f48"
  },
  "kernelspec": {
   "display_name": "Python 3.10.2 64-bit",
   "language": "python",
   "name": "python3"
  },
  "language_info": {
   "codemirror_mode": {
    "name": "ipython",
    "version": 3
   },
   "file_extension": ".py",
   "mimetype": "text/x-python",
   "name": "python",
   "nbconvert_exporter": "python",
   "pygments_lexer": "ipython3",
   "version": "3.10.2"
  },
  "orig_nbformat": 4
 },
 "nbformat": 4,
 "nbformat_minor": 2
}

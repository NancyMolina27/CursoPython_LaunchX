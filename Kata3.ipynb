{
 "cells": [
  {
   "cell_type": "markdown",
   "metadata": {},
   "source": [
    "Kata 3"
   ]
  },
  {
   "cell_type": "markdown",
   "metadata": {},
   "source": [
    "Ejercicio - Escribir declaraciones if, else, y elif"
   ]
  },
  {
   "cell_type": "code",
   "execution_count": 1,
   "metadata": {},
   "outputs": [
    {
     "name": "stdout",
     "output_type": "stream",
     "text": [
      "Un asteroide se acerca a la Tierra demasiado rápido \n"
     ]
    }
   ],
   "source": [
    "asteroide = 49\n",
    "if asteroide > 25 :\n",
    "    print('Un asteroide se acerca a la Tierra demasiado rápido ')\n",
    "else:\n",
    "    print('Todo cool')"
   ]
  },
  {
   "cell_type": "markdown",
   "metadata": {},
   "source": [
    "Ejercicio: Uso de operadores and y or"
   ]
  },
  {
   "cell_type": "code",
   "execution_count": 4,
   "metadata": {},
   "outputs": [
    {
     "name": "stdout",
     "output_type": "stream",
     "text": [
      "Todo cool, no hay peligro\n"
     ]
    }
   ],
   "source": [
    "asteroide = 19\n",
    "if asteroide >20 :\n",
    "    print('Hay un asteroide cerca ')\n",
    "elif asteroide ==20:\n",
    "    print('Hay un asteroide cerca')\n",
    "else:\n",
    "    print('Todo cool, no hay peligro')"
   ]
  },
  {
   "cell_type": "code",
   "execution_count": 3,
   "metadata": {},
   "outputs": [
    {
     "name": "stdout",
     "output_type": "stream",
     "text": [
      "Hay un asteroide cerca\n"
     ]
    }
   ],
   "source": [
    "v_asteroide = 25\n",
    "t_asteroide = 40\n",
    "\n",
    "if v_asteroide > 25 and t_asteroide >25:\n",
    "    print('Un asteroide golpeara la Tierra, causara mucho daño')\n",
    "elif v_asteroide >=20:\n",
    "    print('Hay un asteroide cerca')\n",
    "elif t_asteroide <25:\n",
    "    print('Todo cool, no hay peligro')\n",
    "else:\n",
    "     print('Todo cool, no hay peligro')"
   ]
  }
 ],
 "metadata": {
  "interpreter": {
   "hash": "16b3e8f11fae739e3fe13fc83d5f06e6b8fe72078f1d57b5e776103d43aba1e7"
  },
  "kernelspec": {
   "display_name": "Python 3.10.2 64-bit (windows store)",
   "language": "python",
   "name": "python3"
  },
  "language_info": {
   "codemirror_mode": {
    "name": "ipython",
    "version": 3
   },
   "file_extension": ".py",
   "mimetype": "text/x-python",
   "name": "python",
   "nbconvert_exporter": "python",
   "pygments_lexer": "ipython3",
   "version": "3.10.2"
  },
  "orig_nbformat": 4
 },
 "nbformat": 4,
 "nbformat_minor": 2
}
